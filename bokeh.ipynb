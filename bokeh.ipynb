{
  "nbformat": 4,
  "nbformat_minor": 0,
  "metadata": {
    "colab": {
      "name": "bokeh.ipynb",
      "provenance": [],
      "collapsed_sections": []
    },
    "kernelspec": {
      "name": "python3",
      "display_name": "Python 3"
    }
  },
  "cells": [
    {
      "cell_type": "code",
      "metadata": {
        "id": "nGNGF1UF0hzF",
        "colab_type": "code",
        "colab": {}
      },
      "source": [
        "import numpy as np\n",
        "import cv2"
      ],
      "execution_count": 1,
      "outputs": []
    },
    {
      "cell_type": "code",
      "metadata": {
        "id": "sV-GRXFTlNvb",
        "colab_type": "code",
        "colab": {}
      },
      "source": [
        "def addFrame(l, img):\n",
        "  for i in range(l+1): # Добавляем рамку размером с половину ядра свёртки\n",
        "    img = np.insert(img, 0, 0, axis = 1) # Добавляем нули слева\n",
        "    img = np.insert(img, img.shape[1], 0, axis = 1) # Добавляем нули справа\n",
        "    img = np.insert(img, 0, 0, axis = 0) # Добавляем нули свверху\n",
        "    img = np.insert(img, img.shape[0], 0, axis = 0) # Добавляем нули снизу\n",
        "  return img"
      ],
      "execution_count": 2,
      "outputs": []
    },
    {
      "cell_type": "code",
      "metadata": {
        "id": "wuwhN7jk0_q7",
        "colab_type": "code",
        "colab": {}
      },
      "source": [
        "img = cv2.imread(\"pine.jpg\") # Считываем изображения и делаем подготовку\n",
        "img = img / 255"
      ],
      "execution_count": 3,
      "outputs": []
    },
    {
      "cell_type": "code",
      "metadata": {
        "id": "yN8QlIn4lXo3",
        "colab_type": "code",
        "colab": {}
      },
      "source": [
        "kernel = cv2.imread(\"kernel.jpg\") # Считываем изображения и делаем подготовку\n",
        "kernel = kernel / 255\n",
        "l = kernel.shape[0] // 2\n",
        "sum_reqKernel = np.sum(np.sum(kernel, axis=0), axis=0) # Считаем сумму значений ядра свертки"
      ],
      "execution_count": 4,
      "outputs": []
    },
    {
      "cell_type": "code",
      "metadata": {
        "id": "MTN6878_ld_w",
        "colab_type": "code",
        "colab": {
          "base_uri": "https://localhost:8080/",
          "height": 34
        },
        "outputId": "1d7a359b-07b9-4e97-8006-d0aca55415f2"
      },
      "source": [
        "res_img = img # Массив для результата\n",
        "res_img.dtype"
      ],
      "execution_count": 5,
      "outputs": [
        {
          "output_type": "execute_result",
          "data": {
            "text/plain": [
              "dtype('float64')"
            ]
          },
          "metadata": {
            "tags": []
          },
          "execution_count": 5
        }
      ]
    },
    {
      "cell_type": "code",
      "metadata": {
        "id": "Dt4aGxyvl4DI",
        "colab_type": "code",
        "colab": {
          "base_uri": "https://localhost:8080/",
          "height": 850
        },
        "outputId": "67b7cd27-d7e6-441f-db59-4ff54b9440d5"
      },
      "source": [
        "img = addFrame(l, img)\n",
        "img"
      ],
      "execution_count": 6,
      "outputs": [
        {
          "output_type": "execute_result",
          "data": {
            "text/plain": [
              "array([[[0., 0., 0.],\n",
              "        [0., 0., 0.],\n",
              "        [0., 0., 0.],\n",
              "        ...,\n",
              "        [0., 0., 0.],\n",
              "        [0., 0., 0.],\n",
              "        [0., 0., 0.]],\n",
              "\n",
              "       [[0., 0., 0.],\n",
              "        [0., 0., 0.],\n",
              "        [0., 0., 0.],\n",
              "        ...,\n",
              "        [0., 0., 0.],\n",
              "        [0., 0., 0.],\n",
              "        [0., 0., 0.]],\n",
              "\n",
              "       [[0., 0., 0.],\n",
              "        [0., 0., 0.],\n",
              "        [0., 0., 0.],\n",
              "        ...,\n",
              "        [0., 0., 0.],\n",
              "        [0., 0., 0.],\n",
              "        [0., 0., 0.]],\n",
              "\n",
              "       ...,\n",
              "\n",
              "       [[0., 0., 0.],\n",
              "        [0., 0., 0.],\n",
              "        [0., 0., 0.],\n",
              "        ...,\n",
              "        [0., 0., 0.],\n",
              "        [0., 0., 0.],\n",
              "        [0., 0., 0.]],\n",
              "\n",
              "       [[0., 0., 0.],\n",
              "        [0., 0., 0.],\n",
              "        [0., 0., 0.],\n",
              "        ...,\n",
              "        [0., 0., 0.],\n",
              "        [0., 0., 0.],\n",
              "        [0., 0., 0.]],\n",
              "\n",
              "       [[0., 0., 0.],\n",
              "        [0., 0., 0.],\n",
              "        [0., 0., 0.],\n",
              "        ...,\n",
              "        [0., 0., 0.],\n",
              "        [0., 0., 0.],\n",
              "        [0., 0., 0.]]])"
            ]
          },
          "metadata": {
            "tags": []
          },
          "execution_count": 6
        }
      ]
    },
    {
      "cell_type": "code",
      "metadata": {
        "id": "Ft2L_GAqrxh-",
        "colab_type": "code",
        "colab": {}
      },
      "source": [
        "for i in range(img.shape[0]): # Идём по изображению\n",
        "  for j in range(img.shape[1]):\n",
        "    if (i > l and j > l) and (i < (img.shape[0]-(l+1))) and j < (img.shape[1]-(l+1)): # На чёрные рамки не заходим\n",
        "      res_img[i-(l+1)][j-(l+1)] = (np.sum(np.sum(kernel * img[i-(l+1):i+l, j-(l+1):j+l], axis=0), axis = 0))/sum_reqKernel # Вычисляем пиксель конечного изображения"
      ],
      "execution_count": 7,
      "outputs": []
    },
    {
      "cell_type": "code",
      "metadata": {
        "id": "dEohAMWm8556",
        "colab_type": "code",
        "colab": {
          "base_uri": "https://localhost:8080/",
          "height": 850
        },
        "outputId": "a4c41202-e8d9-4458-f2d8-b94279e126ae"
      },
      "source": [
        "res_img = res_img * 255 # Возвращаем к нормальным значениям RGB\n",
        "res_img"
      ],
      "execution_count": 8,
      "outputs": [
        {
          "output_type": "execute_result",
          "data": {
            "text/plain": [
              "array([[[66.59155975, 20.81343428, 20.21899523],\n",
              "        [70.31381098, 21.95970834, 21.34081381],\n",
              "        [74.0375317 , 23.10273012, 22.45940997],\n",
              "        ...,\n",
              "        [84.92925556, 20.99600925, 21.95936894],\n",
              "        [81.06447859, 20.04154856, 20.960458  ],\n",
              "        [77.20018648, 19.0877331 , 19.96156945]],\n",
              "\n",
              "       [[68.71000298, 21.42640236, 20.7813218 ],\n",
              "        [72.61071908, 22.6253394 , 21.95416232],\n",
              "        [76.51690661, 23.82277711, 23.12519394],\n",
              "        ...,\n",
              "        [87.9690922 , 21.69677756, 22.71399746],\n",
              "        [83.91385201, 20.69860883, 21.66753692],\n",
              "        [79.85936894, 19.69948158, 20.62111368]],\n",
              "\n",
              "       [[70.71240862, 22.00019021, 21.30427048],\n",
              "        [74.789128  , 23.249862  , 22.52608533],\n",
              "        [78.87386991, 24.50079069, 23.74890348],\n",
              "        ...,\n",
              "        [90.89025063, 22.37035656, 23.43889676],\n",
              "        [86.64519618, 21.32706624, 22.34496121],\n",
              "        [82.40008205, 20.28373489, 21.25098463]],\n",
              "\n",
              "       ...,\n",
              "\n",
              "       [[31.42647322, 12.85667984,  8.38312323],\n",
              "        [36.07026704, 14.74430479,  9.6349172 ],\n",
              "        [40.42340743, 16.50045875, 10.78697971],\n",
              "        ...,\n",
              "        [43.78912427, 19.19815754, 14.25521781],\n",
              "        [40.30093615, 17.65647098, 13.12322095],\n",
              "        [36.52342608, 15.9692563 , 11.87985976]],\n",
              "\n",
              "       [[28.88916903, 11.81870804,  7.69267865],\n",
              "        [33.36373266, 13.64644935,  8.90814188],\n",
              "        [37.54783306, 15.34236909, 10.02608533],\n",
              "        ...,\n",
              "        [40.60564673, 17.74497613, 13.16401611],\n",
              "        [37.31954349, 16.299862  , 12.10685887],\n",
              "        [33.74248844, 14.70657541, 10.93670744]],\n",
              "\n",
              "       [[26.43931449, 10.81380725,  7.02514173],\n",
              "        [30.73568178, 12.57488811,  8.19569223],\n",
              "        [34.74897061, 14.20880203,  9.27858795],\n",
              "        ...,\n",
              "        [37.51647397, 16.33749441, 12.10800388],\n",
              "        [34.42987095, 14.98623005, 11.12443682],\n",
              "        [31.05181635, 13.49135089, 10.02666343]]])"
            ]
          },
          "metadata": {
            "tags": []
          },
          "execution_count": 8
        }
      ]
    },
    {
      "cell_type": "code",
      "metadata": {
        "id": "sEoLj6Jq89aw",
        "colab_type": "code",
        "colab": {
          "base_uri": "https://localhost:8080/",
          "height": 34
        },
        "outputId": "11317976-efb5-4903-d86e-1867c7a9671d"
      },
      "source": [
        "cv2.imwrite(\"result.jpg\", res_img) # Формируем изображение"
      ],
      "execution_count": 9,
      "outputs": [
        {
          "output_type": "execute_result",
          "data": {
            "text/plain": [
              "True"
            ]
          },
          "metadata": {
            "tags": []
          },
          "execution_count": 9
        }
      ]
    }
  ]
}